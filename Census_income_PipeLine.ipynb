{
 "cells": [
  {
   "cell_type": "code",
   "execution_count": 1,
   "metadata": {},
   "outputs": [],
   "source": [
    "import numpy as np\n",
    "import pandas as pd\n",
    "from sklearn.model_selection import train_test_split\n",
    "from sklearn.preprocessing import LabelEncoder, OneHotEncoder\n",
    "from sklearn.preprocessing import RobustScaler\n",
    "from sklearn.pipeline import Pipeline\n",
    "from sklearn.compose import ColumnTransformer\n",
    "import xgboost as xgb\n",
    "from xgboost.sklearn import XGBClassifier\n",
    "import joblib\n",
    "from sklearn.metrics import roc_curve, auc, accuracy_score, f1_score, roc_auc_score"
   ]
  },
  {
   "cell_type": "code",
   "execution_count": 2,
   "metadata": {},
   "outputs": [
    {
     "data": {
      "text/html": [
       "<div>\n",
       "<style scoped>\n",
       "    .dataframe tbody tr th:only-of-type {\n",
       "        vertical-align: middle;\n",
       "    }\n",
       "\n",
       "    .dataframe tbody tr th {\n",
       "        vertical-align: top;\n",
       "    }\n",
       "\n",
       "    .dataframe thead th {\n",
       "        text-align: right;\n",
       "    }\n",
       "</style>\n",
       "<table border=\"1\" class=\"dataframe\">\n",
       "  <thead>\n",
       "    <tr style=\"text-align: right;\">\n",
       "      <th></th>\n",
       "      <th>id</th>\n",
       "      <th>age</th>\n",
       "      <th>sex</th>\n",
       "      <th>race</th>\n",
       "      <th>marital_status</th>\n",
       "      <th>relationship_label</th>\n",
       "      <th>relationship</th>\n",
       "      <th>functional_weight</th>\n",
       "      <th>education</th>\n",
       "      <th>education_num</th>\n",
       "      <th>workclass</th>\n",
       "      <th>occupation</th>\n",
       "      <th>capital_gain</th>\n",
       "      <th>capital_loss</th>\n",
       "      <th>hours_per_week</th>\n",
       "      <th>native_country</th>\n",
       "      <th>country_name</th>\n",
       "      <th>target</th>\n",
       "    </tr>\n",
       "  </thead>\n",
       "  <tbody>\n",
       "    <tr>\n",
       "      <th>0</th>\n",
       "      <td>1623</td>\n",
       "      <td>17</td>\n",
       "      <td>Male</td>\n",
       "      <td>White</td>\n",
       "      <td>Married-civ-spouse</td>\n",
       "      <td>0</td>\n",
       "      <td>Husband</td>\n",
       "      <td>221129</td>\n",
       "      <td>9th</td>\n",
       "      <td>5</td>\n",
       "      <td>Private</td>\n",
       "      <td>Other-service</td>\n",
       "      <td>0</td>\n",
       "      <td>0</td>\n",
       "      <td>40</td>\n",
       "      <td>39</td>\n",
       "      <td>United-States</td>\n",
       "      <td>&lt;=50K</td>\n",
       "    </tr>\n",
       "  </tbody>\n",
       "</table>\n",
       "</div>"
      ],
      "text/plain": [
       "     id  age    sex    race       marital_status  relationship_label  \\\n",
       "0  1623   17   Male   White   Married-civ-spouse                   0   \n",
       "\n",
       "  relationship  functional_weight education  education_num workclass  \\\n",
       "0      Husband             221129       9th              5   Private   \n",
       "\n",
       "       occupation  capital_gain  capital_loss  hours_per_week  native_country  \\\n",
       "0   Other-service             0             0              40              39   \n",
       "\n",
       "     country_name  target  \n",
       "0   United-States   <=50K  "
      ]
     },
     "execution_count": 2,
     "metadata": {},
     "output_type": "execute_result"
    }
   ],
   "source": [
    "df = pd.read_csv('data/raw/census_income.csv')\n",
    "df.head(1)"
   ]
  },
  {
   "cell_type": "code",
   "execution_count": 3,
   "metadata": {},
   "outputs": [
    {
     "data": {
      "text/html": [
       "<div>\n",
       "<style scoped>\n",
       "    .dataframe tbody tr th:only-of-type {\n",
       "        vertical-align: middle;\n",
       "    }\n",
       "\n",
       "    .dataframe tbody tr th {\n",
       "        vertical-align: top;\n",
       "    }\n",
       "\n",
       "    .dataframe thead th {\n",
       "        text-align: right;\n",
       "    }\n",
       "</style>\n",
       "<table border=\"1\" class=\"dataframe\">\n",
       "  <thead>\n",
       "    <tr style=\"text-align: right;\">\n",
       "      <th></th>\n",
       "      <th>age</th>\n",
       "      <th>sex</th>\n",
       "      <th>race</th>\n",
       "      <th>marital_status</th>\n",
       "      <th>relationship_label</th>\n",
       "      <th>functional_weight</th>\n",
       "      <th>education</th>\n",
       "      <th>workclass</th>\n",
       "      <th>occupation</th>\n",
       "      <th>capital_gain</th>\n",
       "      <th>capital_loss</th>\n",
       "      <th>hours_per_week</th>\n",
       "      <th>native_country</th>\n",
       "      <th>target</th>\n",
       "    </tr>\n",
       "  </thead>\n",
       "  <tbody>\n",
       "    <tr>\n",
       "      <th>0</th>\n",
       "      <td>17</td>\n",
       "      <td>Male</td>\n",
       "      <td>White</td>\n",
       "      <td>Married-civ-spouse</td>\n",
       "      <td>0</td>\n",
       "      <td>221129</td>\n",
       "      <td>9th</td>\n",
       "      <td>Private</td>\n",
       "      <td>Other-service</td>\n",
       "      <td>0</td>\n",
       "      <td>0</td>\n",
       "      <td>40</td>\n",
       "      <td>39</td>\n",
       "      <td>&lt;=50K</td>\n",
       "    </tr>\n",
       "  </tbody>\n",
       "</table>\n",
       "</div>"
      ],
      "text/plain": [
       "   age    sex    race       marital_status  relationship_label  \\\n",
       "0   17   Male   White   Married-civ-spouse                   0   \n",
       "\n",
       "   functional_weight education workclass      occupation  capital_gain  \\\n",
       "0             221129       9th   Private   Other-service             0   \n",
       "\n",
       "   capital_loss  hours_per_week  native_country  target  \n",
       "0             0              40              39   <=50K  "
      ]
     },
     "execution_count": 3,
     "metadata": {},
     "output_type": "execute_result"
    }
   ],
   "source": [
    "columns_to_drop = ['id', 'relationship', 'education_num', 'country_name']\n",
    "df.drop(columns_to_drop, axis = 1, inplace = True)\n",
    "df.head(1)"
   ]
  },
  {
   "cell_type": "code",
   "execution_count": 4,
   "metadata": {},
   "outputs": [
    {
     "data": {
      "text/html": [
       "<div>\n",
       "<style scoped>\n",
       "    .dataframe tbody tr th:only-of-type {\n",
       "        vertical-align: middle;\n",
       "    }\n",
       "\n",
       "    .dataframe tbody tr th {\n",
       "        vertical-align: top;\n",
       "    }\n",
       "\n",
       "    .dataframe thead th {\n",
       "        text-align: right;\n",
       "    }\n",
       "</style>\n",
       "<table border=\"1\" class=\"dataframe\">\n",
       "  <thead>\n",
       "    <tr style=\"text-align: right;\">\n",
       "      <th></th>\n",
       "      <th>age</th>\n",
       "      <th>sex</th>\n",
       "      <th>race</th>\n",
       "      <th>marital_status</th>\n",
       "      <th>relationship_label</th>\n",
       "      <th>functional_weight</th>\n",
       "      <th>education</th>\n",
       "      <th>workclass</th>\n",
       "      <th>occupation</th>\n",
       "      <th>capital_gain</th>\n",
       "      <th>capital_loss</th>\n",
       "      <th>hours_per_week</th>\n",
       "      <th>native_country</th>\n",
       "      <th>target</th>\n",
       "    </tr>\n",
       "  </thead>\n",
       "  <tbody>\n",
       "    <tr>\n",
       "      <th>0</th>\n",
       "      <td>17</td>\n",
       "      <td>Male</td>\n",
       "      <td>White</td>\n",
       "      <td>Married-civ-spouse</td>\n",
       "      <td>0</td>\n",
       "      <td>221129</td>\n",
       "      <td>9th</td>\n",
       "      <td>Private</td>\n",
       "      <td>Other-service</td>\n",
       "      <td>0</td>\n",
       "      <td>0</td>\n",
       "      <td>40</td>\n",
       "      <td>39</td>\n",
       "      <td>0</td>\n",
       "    </tr>\n",
       "  </tbody>\n",
       "</table>\n",
       "</div>"
      ],
      "text/plain": [
       "   age    sex    race       marital_status  relationship_label  \\\n",
       "0   17   Male   White   Married-civ-spouse                   0   \n",
       "\n",
       "   functional_weight education workclass      occupation  capital_gain  \\\n",
       "0             221129       9th   Private   Other-service             0   \n",
       "\n",
       "   capital_loss  hours_per_week  native_country  target  \n",
       "0             0              40              39       0  "
      ]
     },
     "execution_count": 4,
     "metadata": {},
     "output_type": "execute_result"
    }
   ],
   "source": [
    "# LabelEncoder for 'TARGET' column\n",
    "le = LabelEncoder()\n",
    "df['target'] = le.fit_transform(df['target'])\n",
    "df.head(1)"
   ]
  },
  {
   "cell_type": "markdown",
   "metadata": {},
   "source": [
    "### Divide raw data on two sets for Train and Validation model pipeline"
   ]
  },
  {
   "cell_type": "code",
   "execution_count": 5,
   "metadata": {},
   "outputs": [],
   "source": [
    "# 'data' use for train,  'validation_data' use for validatoin models \n",
    "\n",
    "data, validation_data = train_test_split( df, test_size=0.01, random_state=42) "
   ]
  },
  {
   "cell_type": "code",
   "execution_count": 6,
   "metadata": {},
   "outputs": [],
   "source": [
    "# Create file\n",
    "data.to_csv('raw_data_for_pipeline.csv', index=False) # save as csv file\n",
    "validation_data.to_csv('raw_data_for_validation_pipeline.csv', index=False)"
   ]
  },
  {
   "cell_type": "markdown",
   "metadata": {},
   "source": [
    "###  Data for Pipeline"
   ]
  },
  {
   "cell_type": "code",
   "execution_count": 7,
   "metadata": {},
   "outputs": [],
   "source": [
    "X_df = data.drop(['target'], axis = 1)\n",
    "y_df = data['target']"
   ]
  },
  {
   "cell_type": "code",
   "execution_count": 8,
   "metadata": {},
   "outputs": [],
   "source": [
    "X_train, X_test, y_train, y_test = train_test_split(\n",
    "    X_df,  y_df,\n",
    "    test_size=0.20,\n",
    "    random_state=42\n",
    ")  "
   ]
  },
  {
   "cell_type": "code",
   "execution_count": 9,
   "metadata": {},
   "outputs": [],
   "source": [
    "# #Separate categorical and numberical columns\n",
    "# CATEGORICAL_FEATURES = X_train.dtypes[X_train.dtypes == 'object']\n",
    "# NUMERICAL_FEATURES = X_train.dtypes[X_train.dtypes != 'object']"
   ]
  },
  {
   "cell_type": "markdown",
   "metadata": {},
   "source": [
    "## PipeLine + "
   ]
  },
  {
   "cell_type": "code",
   "execution_count": 10,
   "metadata": {},
   "outputs": [
    {
     "name": "stdout",
     "output_type": "stream",
     "text": [
      "Pipeline(memory=None,\n",
      "         steps=[('data_scaler',\n",
      "                 ColumnTransformer(n_jobs=None, remainder='drop',\n",
      "                                   sparse_threshold=0.3,\n",
      "                                   transformer_weights=None,\n",
      "                                   transformers=[('num_features',\n",
      "                                                  RobustScaler(copy=True,\n",
      "                                                               quantile_range=(25.0,\n",
      "                                                                               75.0),\n",
      "                                                               with_centering=True,\n",
      "                                                               with_scaling=True),\n",
      "                                                  ['age', 'relationship_label',\n",
      "                                                   'functional_weight',\n",
      "                                                   'capital_gain',\n",
      "                                                   'capital_loss',\n",
      "                                                   'hours_per_week',...\n",
      "                 XGBClassifier(base_score=0.5, booster='gbtree',\n",
      "                               colsample_bylevel=1, colsample_bynode=1,\n",
      "                               colsample_bytree=1, gamma=0, learning_rate=0.1,\n",
      "                               max_delta_step=0, max_depth=3,\n",
      "                               min_child_weight=1, missing=None,\n",
      "                               n_estimators=100, n_jobs=1, nthread=None,\n",
      "                               objective='binary:logistic', random_state=0,\n",
      "                               reg_alpha=0, reg_lambda=1, scale_pos_weight=1,\n",
      "                               seed=None, silent=None, subsample=1,\n",
      "                               verbosity=1))],\n",
      "         verbose=False)\n"
     ]
    }
   ],
   "source": [
    "\n",
    "CATEGORICAL_FEATURES = ['sex', 'race', 'marital_status', 'education', 'workclass', 'occupation']\n",
    "NUMERICAL_FEATURES = ['age', 'relationship_label','functional_weight','capital_gain',\n",
    "                      'capital_loss','hours_per_week','native_country']\n",
    "    \n",
    "preprocessor = ColumnTransformer(\n",
    "        [\n",
    "            ('num_features', RobustScaler(), NUMERICAL_FEATURES),\n",
    "            ('categ_features', OneHotEncoder(), CATEGORICAL_FEATURES)\n",
    "        ], \n",
    "        remainder='drop'\n",
    "    )\n",
    "\n",
    "steps = [\n",
    "            ('data_scaler', preprocessor), \n",
    "            ('clf', XGBClassifier())\n",
    "    ]\n",
    "\n",
    "pipe = Pipeline(steps)\n",
    "print(pipe)\n",
    "\n",
    "# # now we can save the whole model to pkl for future usage in production web-service\n",
    "\n",
    "# import joblib\n",
    "# MODEL_FILEPATH = \"models_repo/model.pkl\"\n",
    "\n",
    "# # save model\n",
    "# joblib.dump(model, MODEL_FILEPATH)\n",
    "\n",
    "# # load saved model\n",
    "# model = joblib.load(MODEL_FILEPATH)\n",
    "\n"
   ]
  },
  {
   "cell_type": "markdown",
   "metadata": {},
   "source": [
    "### Save Pipeline_Model as 'pkl' file."
   ]
  },
  {
   "cell_type": "code",
   "execution_count": 11,
   "metadata": {},
   "outputs": [],
   "source": [
    "# fit the whole model pipeline\n",
    "pipe.fit(X_train, y_train)\n",
    "\n",
    "import joblib\n",
    "\n",
    "#MODEL_FILEPATH = \"my_model_pipe.pkl\"\n",
    "MODEL_FILEPATH = \"[2020-04-15]-census_income_clf-[with OneHot].v1.pkl\"\n",
    "\n",
    "# save model to pkl\n",
    "joblib.dump(pipe, MODEL_FILEPATH)\n",
    "\n",
    "# load model from pkl\n",
    "model = joblib.load(MODEL_FILEPATH)"
   ]
  },
  {
   "cell_type": "code",
   "execution_count": 12,
   "metadata": {},
   "outputs": [
    {
     "name": "stdout",
     "output_type": "stream",
     "text": [
      " PipeLine XGBoost classifier:\n",
      "------------------------------\n",
      " - ROC AUC _score:  0.913\n",
      "--------------------------\n",
      " - accuracy_score:  0.854\n",
      " - f1_score:  0.656\n"
     ]
    }
   ],
   "source": [
    "# predict new test dataset\n",
    "\n",
    "y_test_pipe_pred = model.predict(X_test)\n",
    "\n",
    "y_test_pipe_prob_pred = model.predict_proba(X_test)\n",
    "\n",
    "print(\" PipeLine XGBoost classifier:\")\n",
    "print('------------------------------')\n",
    "print(f\" - ROC AUC _score: {roc_auc_score(y_test, y_test_pipe_prob_pred[:,1]): .3f}\")\n",
    "print('--------------------------')\n",
    "print(f\" - accuracy_score: {accuracy_score(y_test, y_test_pipe_pred): .3f}\")\n",
    "print(f\" - f1_score: {f1_score(y_test, y_test_pipe_pred): .3f}\")"
   ]
  },
  {
   "cell_type": "code",
   "execution_count": null,
   "metadata": {},
   "outputs": [],
   "source": []
  }
 ],
 "metadata": {
  "kernelspec": {
   "display_name": "Python 3",
   "language": "python",
   "name": "python3"
  },
  "language_info": {
   "codemirror_mode": {
    "name": "ipython",
    "version": 3
   },
   "file_extension": ".py",
   "mimetype": "text/x-python",
   "name": "python",
   "nbconvert_exporter": "python",
   "pygments_lexer": "ipython3",
   "version": "3.7.4"
  }
 },
 "nbformat": 4,
 "nbformat_minor": 2
}
